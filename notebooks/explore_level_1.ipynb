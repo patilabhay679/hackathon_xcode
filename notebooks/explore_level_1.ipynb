{
 "cells": [
  {
   "cell_type": "code",
   "execution_count": 7,
   "metadata": {},
   "outputs": [],
   "source": [
    "import plotly.graph_objs as go\n",
    "import numpy as np\n",
    "import pandas as pd\n",
    "pd.set_option('display.max_columns', 100)\n",
    "pd.set_option('display.max_rows', 100)\n",
    "from non_linear_regression import poly_regression"
   ]
  },
  {
   "cell_type": "code",
   "execution_count": 2,
   "metadata": {},
   "outputs": [
    {
     "data": {
      "text/plain": [
       "(1460, 80)"
      ]
     },
     "execution_count": 2,
     "metadata": {},
     "output_type": "execute_result"
    }
   ],
   "source": [
    "df = pd.read_csv('./dataset/train.csv',index_col='Id')\n",
    "df.shape"
   ]
  },
  {
   "cell_type": "code",
   "execution_count": 3,
   "metadata": {},
   "outputs": [],
   "source": [
    "# dropping columsn having very high missing values, not including in either of continuous or categorical\n",
    "# df.drop(columns=['Alley','MiscVal','PoolArea','3SsnPorch','BsmtFinSF2','LowQualFinSF','PoolQC','Fence','MiscFeature','FireplaceQu'],inplace=True)"
   ]
  },
  {
   "cell_type": "code",
   "execution_count": 4,
   "metadata": {},
   "outputs": [
    {
     "data": {
      "text/plain": [
       "(1396, 80)"
      ]
     },
     "execution_count": 4,
     "metadata": {},
     "output_type": "execute_result"
    }
   ],
   "source": [
    "# filtering out 'SalePrice' between [50k,500k]\n",
    "filt_saleprice = df['SalePrice'].between(left=50000,right=500000,inclusive='both')\n",
    "filt_lot_area = (df['LotArea'] <20000)\n",
    "df = df.loc[filt_saleprice & filt_lot_area]\n",
    "df.shape\n"
   ]
  },
  {
   "cell_type": "code",
   "execution_count": null,
   "metadata": {},
   "outputs": [],
   "source": [
    "df.to_csv('./FilteredCsv/dataset_after_level_1.csv')"
   ]
  },
  {
   "cell_type": "code",
   "execution_count": null,
   "metadata": {},
   "outputs": [],
   "source": [
    "col_continuous = ['GrLivArea','LotArea', 'BsmtFinSF1', 'BsmtUnfSF', '1stFlrSF', 'TotalBsmtSF', 'GarageArea', '2ndFlrSF', 'WoodDeckSF', 'OpenPorchSF','BsmtFinSF2', 'EnclosedPorch', 'LotFrontage','ScreenPorch']\n",
    "col_catagorial = ['Neighborhood', 'Exterior2nd', 'MSSubClass','Exterior1st', 'YearBuilt', 'YearRemodAdd', 'GarageYrBlt', 'MoSold','TotRmsAbvGrd', 'OverallQual', 'OverallCond', 'Condition1', 'SaleType','RoofMatl', 'BedroomAbvGr', 'Condition2', 'HouseStyle', 'Functional','GarageType', 'SaleCondition', 'RoofStyle', 'Electrical', 'Heating','BsmtFinType2', 'BsmtFinType1', 'Foundation', 'BldgType', 'MSZoning','GarageCond', 'YrSold', 'GarageQual', 'ExterCond', 'GarageCars','LotConfig', 'HeatingQC', 'Fireplaces', 'LandContour', 'KitchenQual','MasVnrType', 'FullBath', 'BsmtFullBath', 'KitchenAbvGr', 'LotShape','BsmtExposure', 'BsmtCond', 'BsmtQual', 'ExterQual', 'HalfBath','GarageFinish', 'BsmtHalfBath', 'LandSlope', 'PavedDrive', 'Utilities','Street', 'CentralAir','FireplaceQu']\n",
    "target = 'SalePrice'"
   ]
  }
 ],
 "metadata": {
  "kernelspec": {
   "display_name": "Python 3",
   "language": "python",
   "name": "python3"
  },
  "language_info": {
   "codemirror_mode": {
    "name": "ipython",
    "version": 3
   },
   "file_extension": ".py",
   "mimetype": "text/x-python",
   "name": "python",
   "nbconvert_exporter": "python",
   "pygments_lexer": "ipython3",
   "version": "3.9.9 (tags/v3.9.9:ccb0e6a, Nov 15 2021, 18:08:50) [MSC v.1929 64 bit (AMD64)]"
  },
  "orig_nbformat": 4,
  "vscode": {
   "interpreter": {
    "hash": "6e1434c98916a21c7e956c6bbcaa09b72322b2a48758cf786c4dc7ad932dd14d"
   }
  }
 },
 "nbformat": 4,
 "nbformat_minor": 2
}
